{
 "cells": [
  {
   "cell_type": "code",
   "execution_count": 1,
   "id": "c3d88709-cc49-4815-9ff6-d4d567cf59ad",
   "metadata": {},
   "outputs": [
    {
     "name": "stdout",
     "output_type": "stream",
     "text": [
      "Requirement already satisfied: sastrawi in c:\\users\\userr\\anaconda3\\lib\\site-packages (1.0.1)\n"
     ]
    }
   ],
   "source": [
    "!pip install sastrawi"
   ]
  },
  {
   "cell_type": "code",
   "execution_count": 5,
   "id": "1eb4e6b6-cf25-4ab4-a0bc-0c7e75c6b0fa",
   "metadata": {},
   "outputs": [
    {
     "name": "stdout",
     "output_type": "stream",
     "text": [
      "Case folding : barangnya sesuai harapan, cakep dan mulus. penjualanya juga baik dan ramah. overall, puas banget belanja di sini.\n",
      "Token:\n",
      "['barangnya', 'sesuai', 'harapan', 'cakep', 'dan', 'mulus', 'penjualanya', 'juga', 'baik', 'dan', 'ramah', 'overall', 'puas', 'banget', 'belanja', 'di', 'sini']\n",
      "Hasil Stemming:\n",
      "barang sesuai harap cakep dan mulus penjualanya juga baik dan ramah overall puas banget belanja di sini\n"
     ]
    }
   ],
   "source": [
    "dokumen1 = \"Barangnya sesuai harapan, cakep dan mulus. Penjualanya juga baik dan ramah. Overall, puas banget belanja di sini.\"\n",
    "\n",
    "# Case folding\n",
    "hasil_cf = str.lower(dokumen1)\n",
    "print(\"Case folding : \" + hasil_cf)\n",
    "\n",
    "# Tokenizing\n",
    "from nltk.tokenize import RegexpTokenizer\n",
    "tokenizer = RegexpTokenizer(r'\\w+')\n",
    "hasil_token = tokenizer.tokenize(hasil_cf)\n",
    "print(\"Token:\")\n",
    "print(hasil_token)\n",
    "\n",
    "# Stemming\n",
    "from Sastrawi.Stemmer.StemmerFactory import StemmerFactory\n",
    "factory = StemmerFactory()\n",
    "stemmer = factory.create_stemmer()\n",
    "input_stem = \" \".join(hasil_token)  # Combine token list back to string for stemming\n",
    "hasil_stem = stemmer.stem(input_stem)\n",
    "print(\"Hasil Stemming:\")\n",
    "print(hasil_stem)\n"
   ]
  },
  {
   "cell_type": "code",
   "execution_count": 9,
   "id": "5f92d830-d1e4-4c0d-86a1-08dd58575248",
   "metadata": {},
   "outputs": [
    {
     "name": "stdout",
     "output_type": "stream",
     "text": [
      "Dokumen: Barangnya sesuai harapan,cakep dan mulus. Penjualnua juga baik dan ramah. Overall, puas banget belanja disni.\n",
      "Case Folding: barangnya sesuai harapan,cakep dan mulus. penjualnua juga baik dan ramah. overall, puas banget belanja disni.\n",
      "Token:\n",
      "['barangnya', 'sesuai', 'harapan', 'cakep', 'dan', 'mulus', 'penjualnua', 'juga', 'baik', 'dan', 'ramah', 'overall', 'puas', 'banget', 'belanja', 'disni']\n",
      "Hasil Stemming:\n",
      "barang sesuai harap cakep dan mulus penjualnua juga baik dan ramah overall puas banget belanja disni\n",
      "Hasil Setelah Stopword Removal:\n",
      "['barang', 'sesuai', 'harap', 'cakep', 'mulus', 'penjualnua', 'baik', 'ramah', 'overall', 'puas', 'banget', 'belanja', 'disni']\n"
     ]
    }
   ],
   "source": [
    "dokumen1 = \"Barangnya sesuai harapan,cakep dan mulus. Penjualnua juga baik dan ramah. Overall, puas banget belanja disni.\"\n",
    "print(\"Dokumen: \" + dokumen1)\n",
    "\n",
    "# Case Folding\n",
    "hasil_cf = str.lower(dokumen1)  # Fixed typo from lowwer to lower\n",
    "print(\"Case Folding: \" + hasil_cf)\n",
    "\n",
    "# Tokenizing\n",
    "from nltk.tokenize import RegexpTokenizer\n",
    "tokenizer = RegexpTokenizer(r'\\w+')  # Corrected regex pattern\n",
    "hasil_token = tokenizer.tokenize(hasil_cf)\n",
    "print(\"Token:\")\n",
    "print(hasil_token)\n",
    "\n",
    "# Stemming\n",
    "from Sastrawi.Stemmer.StemmerFactory import StemmerFactory\n",
    "factory = StemmerFactory()  # Fixed typo from factroy to factory\n",
    "stemmer = factory.create_stemmer()\n",
    "input_stem = \" \".join(hasil_token)  # Join tokens into a string for stemming\n",
    "hasil_stem = stemmer.stem(input_stem)\n",
    "print(\"Hasil Stemming:\")\n",
    "print(hasil_stem)\n",
    "\n",
    "# Filtering (Stopwords Removal)\n",
    "# Tokenize the stemmed text\n",
    "token_stem = tokenizer.tokenize(hasil_stem)\n",
    "\n",
    "# Get the list of stopwords\n",
    "from Sastrawi.StopWordRemover.StopWordRemoverFactory import StopWordRemoverFactory\n",
    "stop_factory = StopWordRemoverFactory()  # Corrected typo here\n",
    "stopwords = stop_factory.get_stop_words()\n",
    "\n",
    "# Remove stopwords from the stemmed tokens\n",
    "hasil_final = [word for word in token_stem if word not in stopwords]\n",
    "print(\"Hasil Setelah Stopword Removal:\")\n",
    "print(hasil_final)\n"
   ]
  },
  {
   "cell_type": "code",
   "execution_count": 13,
   "id": "e8b34c58-c2a7-4f4d-ba12-2c56e0d88a15",
   "metadata": {},
   "outputs": [
    {
     "name": "stdout",
     "output_type": "stream",
     "text": [
      "Case folding : barngnya sesuai harapan, cakep dan mulus. penjualnya juga ramah dan baik. overall, puas banget belanja di sini.\n",
      "Token:\n",
      "['barngnya', 'sesuai', 'harapan', 'cakep', 'dan', 'mulus', 'penjualnya', 'juga', 'ramah', 'dan', 'baik', 'overall', 'puas', 'banget', 'belanja', 'di', 'sini']\n"
     ]
    }
   ],
   "source": [
    "dokumen1 = \"Barngnya sesuai harapan, cakep dan mulus. Penjualnya juga ramah dan baik. Overall, puas banget belanja di sini.\"\n",
    "\n",
    "# Case folding\n",
    "hasil_cf = str.lower(dokumen1)\n",
    "print(\"Case folding : \" + hasil_cf)\n",
    "\n",
    "# Tokenizing\n",
    "from nltk.tokenize import RegexpTokenizer\n",
    "tokenizer = RegexpTokenizer(r'\\w+')  # Corrected regex pattern\n",
    "hasil_token = tokenizer.tokenize(hasil_cf)\n",
    "print(\"Token:\")\n",
    "print(hasil_token)\n"
   ]
  },
  {
   "cell_type": "code",
   "execution_count": null,
   "id": "7bc267dc-c017-4b2f-8608-5b8d5326fff3",
   "metadata": {},
   "outputs": [],
   "source": []
  }
 ],
 "metadata": {
  "kernelspec": {
   "display_name": "Python [conda env:base] *",
   "language": "python",
   "name": "conda-base-py"
  },
  "language_info": {
   "codemirror_mode": {
    "name": "ipython",
    "version": 3
   },
   "file_extension": ".py",
   "mimetype": "text/x-python",
   "name": "python",
   "nbconvert_exporter": "python",
   "pygments_lexer": "ipython3",
   "version": "3.12.7"
  }
 },
 "nbformat": 4,
 "nbformat_minor": 5
}
